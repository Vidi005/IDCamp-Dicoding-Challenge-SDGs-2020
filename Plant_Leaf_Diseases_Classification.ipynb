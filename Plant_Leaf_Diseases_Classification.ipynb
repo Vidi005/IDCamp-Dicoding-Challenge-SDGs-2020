{
  "nbformat": 4,
  "nbformat_minor": 0,
  "metadata": {
    "colab": {
      "name": "Plant Leaf Diseases Classification.ipynb",
      "provenance": [],
      "collapsed_sections": [],
      "toc_visible": true,
      "authorship_tag": "ABX9TyNEuf2o2SxD0UsfdnlXrRoO",
      "include_colab_link": true
    },
    "kernelspec": {
      "name": "python3",
      "display_name": "Python 3"
    },
    "accelerator": "GPU"
  },
  "cells": [
    {
      "cell_type": "markdown",
      "metadata": {
        "id": "view-in-github",
        "colab_type": "text"
      },
      "source": [
        "<a href=\"https://colab.research.google.com/github/Vidi005/IDCamp-Dicoding-Challenge-SDGs-2020/blob/master/Plant_Leaf_Diseases_Classification.ipynb\" target=\"_parent\"><img src=\"https://colab.research.google.com/assets/colab-badge.svg\" alt=\"Open In Colab\"/></a>"
      ]
    },
    {
      "cell_type": "markdown",
      "metadata": {
        "id": "fJEscDjOtgYH",
        "colab_type": "text"
      },
      "source": [
        "# **Farm Doctor**"
      ]
    },
    {
      "cell_type": "markdown",
      "metadata": {
        "id": "KcHddQ17tyef",
        "colab_type": "text"
      },
      "source": [
        "Program ML untuk klasifikasi penyakit pada daun tanaman\n",
        "<br>\n",
        "Program ini dibuat menggunakan CNN dengan library Keras dan backend TensorFlow."
      ]
    },
    {
      "cell_type": "markdown",
      "metadata": {
        "id": "GFyhoUc4uD88",
        "colab_type": "text"
      },
      "source": [
        "## Memasang Kaggle untuk Mengimpor Dataset dari Kaggle"
      ]
    },
    {
      "cell_type": "code",
      "metadata": {
        "id": "Hj8zX4F02RhK",
        "colab_type": "code",
        "colab": {
          "base_uri": "https://localhost:8080/",
          "height": 224
        },
        "outputId": "5a78e797-cf8b-49c1-aa8f-da08ace32cf5"
      },
      "source": [
        "!pip install kaggle"
      ],
      "execution_count": null,
      "outputs": [
        {
          "output_type": "stream",
          "text": [
            "Requirement already satisfied: kaggle in /usr/local/lib/python3.6/dist-packages (1.5.6)\n",
            "Requirement already satisfied: requests in /usr/local/lib/python3.6/dist-packages (from kaggle) (2.23.0)\n",
            "Requirement already satisfied: python-slugify in /usr/local/lib/python3.6/dist-packages (from kaggle) (4.0.1)\n",
            "Requirement already satisfied: certifi in /usr/local/lib/python3.6/dist-packages (from kaggle) (2020.6.20)\n",
            "Requirement already satisfied: urllib3<1.25,>=1.21.1 in /usr/local/lib/python3.6/dist-packages (from kaggle) (1.24.3)\n",
            "Requirement already satisfied: python-dateutil in /usr/local/lib/python3.6/dist-packages (from kaggle) (2.8.1)\n",
            "Requirement already satisfied: six>=1.10 in /usr/local/lib/python3.6/dist-packages (from kaggle) (1.15.0)\n",
            "Requirement already satisfied: tqdm in /usr/local/lib/python3.6/dist-packages (from kaggle) (4.41.1)\n",
            "Requirement already satisfied: chardet<4,>=3.0.2 in /usr/local/lib/python3.6/dist-packages (from requests->kaggle) (3.0.4)\n",
            "Requirement already satisfied: idna<3,>=2.5 in /usr/local/lib/python3.6/dist-packages (from requests->kaggle) (2.10)\n",
            "Requirement already satisfied: text-unidecode>=1.3 in /usr/local/lib/python3.6/dist-packages (from python-slugify->kaggle) (1.3)\n"
          ],
          "name": "stdout"
        }
      ]
    },
    {
      "cell_type": "markdown",
      "metadata": {
        "id": "XAoIQrUnvlur",
        "colab_type": "text"
      },
      "source": [
        "## Upload Kaggle API"
      ]
    },
    {
      "cell_type": "code",
      "metadata": {
        "id": "CXaTxXNu3W8_",
        "colab_type": "code",
        "colab": {
          "resources": {
            "http://localhost:8080/nbextensions/google.colab/files.js": {
              "data": "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",
              "ok": true,
              "headers": [
                [
                  "content-type",
                  "application/javascript"
                ]
              ],
              "status": 200,
              "status_text": ""
            }
          },
          "base_uri": "https://localhost:8080/",
          "height": 89
        },
        "outputId": "1b21743a-3b2f-4f09-b4bd-5f87a9c1340c"
      },
      "source": [
        "from google.colab import files\n",
        "files.upload()"
      ],
      "execution_count": null,
      "outputs": [
        {
          "output_type": "display_data",
          "data": {
            "text/html": [
              "\n",
              "     <input type=\"file\" id=\"files-2556fa63-b8f1-42c8-a33a-db8b601d6f6d\" name=\"files[]\" multiple disabled\n",
              "        style=\"border:none\" />\n",
              "     <output id=\"result-2556fa63-b8f1-42c8-a33a-db8b601d6f6d\">\n",
              "      Upload widget is only available when the cell has been executed in the\n",
              "      current browser session. Please rerun this cell to enable.\n",
              "      </output>\n",
              "      <script src=\"/nbextensions/google.colab/files.js\"></script> "
            ],
            "text/plain": [
              "<IPython.core.display.HTML object>"
            ]
          },
          "metadata": {
            "tags": []
          }
        },
        {
          "output_type": "stream",
          "text": [
            "Saving kaggle.json to kaggle.json\n"
          ],
          "name": "stdout"
        },
        {
          "output_type": "execute_result",
          "data": {
            "text/plain": [
              "{'kaggle.json': b'{\"username\":\"vidi005\",\"key\":\"9fce1c2f299c8e658ea0b78f1cce224f\"}'}"
            ]
          },
          "metadata": {
            "tags": []
          },
          "execution_count": 2
        }
      ]
    },
    {
      "cell_type": "markdown",
      "metadata": {
        "id": "fNzNljrAvrCt",
        "colab_type": "text"
      },
      "source": [
        "## Menyimpan File Kaggle API untuk Download Datasets"
      ]
    },
    {
      "cell_type": "code",
      "metadata": {
        "id": "FbXfW2P63oMC",
        "colab_type": "code",
        "colab": {}
      },
      "source": [
        "!mkdir -p ~/.kaggle\n",
        "!cp kaggle.json ~/.kaggle/\n",
        "!chmod 600 ~/.kaggle/kaggle.json"
      ],
      "execution_count": null,
      "outputs": []
    },
    {
      "cell_type": "markdown",
      "metadata": {
        "id": "pkjtuId6xpJB",
        "colab_type": "text"
      },
      "source": [
        "## Preprocessing Datasets"
      ]
    },
    {
      "cell_type": "markdown",
      "metadata": {
        "id": "C_RLcltWv86V",
        "colab_type": "text"
      },
      "source": [
        "### Mendwonload Dataset Plant Diseases"
      ]
    },
    {
      "cell_type": "markdown",
      "metadata": {
        "id": "SSjTIHNx0uzV",
        "colab_type": "text"
      },
      "source": [
        "Dataset didownload dari link berikut:\n",
        "<br>\n",
        "https://www.kaggle.com/daoliu/plant-622"
      ]
    },
    {
      "cell_type": "code",
      "metadata": {
        "id": "NnFtBLlP3438",
        "colab_type": "code",
        "colab": {
          "base_uri": "https://localhost:8080/",
          "height": 68
        },
        "outputId": "4116652b-9aa4-4a00-ec0a-85f2c2f20ca3"
      },
      "source": [
        "!kaggle datasets download -d daoliu/plant-622"
      ],
      "execution_count": null,
      "outputs": [
        {
          "output_type": "stream",
          "text": [
            "Downloading plant-622.zip to /content\n",
            "100% 1.33G/1.34G [00:11<00:00, 47.7MB/s]\n",
            "100% 1.34G/1.34G [00:11<00:00, 122MB/s] \n"
          ],
          "name": "stdout"
        }
      ]
    },
    {
      "cell_type": "markdown",
      "metadata": {
        "id": "Jd2JMAlZwIbP",
        "colab_type": "text"
      },
      "source": [
        "### Menampilkan List Folder Content"
      ]
    },
    {
      "cell_type": "code",
      "metadata": {
        "id": "moR0EgVk5GyW",
        "colab_type": "code",
        "colab": {
          "base_uri": "https://localhost:8080/",
          "height": 34
        },
        "outputId": "c0fecb23-5797-4f07-d628-033cba63a9f5"
      },
      "source": [
        "!ls"
      ],
      "execution_count": null,
      "outputs": [
        {
          "output_type": "stream",
          "text": [
            "kaggle.json  plant-622.zip  sample_data\n"
          ],
          "name": "stdout"
        }
      ]
    },
    {
      "cell_type": "markdown",
      "metadata": {
        "id": "Hxcu2NQ4wSl6",
        "colab_type": "text"
      },
      "source": [
        "### Mengekstrak Dataset yang Sudah didownload"
      ]
    },
    {
      "cell_type": "code",
      "metadata": {
        "id": "HpJ3OZ3l5ad2",
        "colab_type": "code",
        "colab": {}
      },
      "source": [
        "#Menyimpan hasil ekstrak ke dalam folder datasets\n",
        "import zipfile,os\n",
        "local_zip = \"plant-622.zip\"\n",
        "zip_ref = zipfile.ZipFile(local_zip, \"r\")\n",
        "zip_ref.extractall(\"/content/datasets\")\n",
        "zip_ref.close()"
      ],
      "execution_count": null,
      "outputs": []
    },
    {
      "cell_type": "code",
      "metadata": {
        "id": "G39aprg3SKYB",
        "colab_type": "code",
        "colab": {}
      },
      "source": [
        "#Menghapus folder dataset pelatihan yang tidak diperlukan\n",
        "import shutil\n",
        "shutil.rmtree(\"/content/datasets/train/Blueberry___healthy\", ignore_errors=False, onerror=None)\n",
        "shutil.rmtree(\"/content/datasets/train/Orange___Haunglongbing_(Citrus_greening)\", ignore_errors=False, onerror=None)\n",
        "shutil.rmtree(\"/content/datasets/train/Peach___Bacterial_spot\", ignore_errors=False, onerror=None)\n",
        "shutil.rmtree(\"/content/datasets/train/Peach___healthy\", ignore_errors=False, onerror=None)\n",
        "shutil.rmtree(\"/content/datasets/train/Raspberry___healthy\", ignore_errors=False, onerror=None)\n",
        "shutil.rmtree(\"/content/datasets/train/Soybean___healthy\", ignore_errors=False, onerror=None)\n",
        "shutil.rmtree(\"/content/datasets/train/Squash___Powdery_mildew\", ignore_errors=False, onerror=None)\n",
        "\n",
        "#Menghapus dataset validasi yang tidak diperlukan\n",
        "#Dataset validasi yang digunakan diambil 20% dari dataset pelatihan menggunakan image generator\n",
        "shutil.rmtree(\"/content/datasets/valid\", ignore_errors=False, onerror=None)\n",
        "\n",
        "#Menghapus dataset pengujian yang tidak diperlukan\n",
        "shutil.rmtree(\"/content/datasets/test/Blueberry___healthy\", ignore_errors=False, onerror=None)\n",
        "shutil.rmtree(\"/content/datasets/test/Orange___Haunglongbing_(Citrus_greening)\", ignore_errors=False, onerror=None)\n",
        "shutil.rmtree(\"/content/datasets/test/Peach___Bacterial_spot\", ignore_errors=False, onerror=None)\n",
        "shutil.rmtree(\"/content/datasets/test/Peach___healthy\", ignore_errors=False, onerror=None)\n",
        "shutil.rmtree(\"/content/datasets/test/Raspberry___healthy\", ignore_errors=False, onerror=None)\n",
        "shutil.rmtree(\"/content/datasets/test/Soybean___healthy\", ignore_errors=False, onerror=None)\n",
        "shutil.rmtree(\"/content/datasets/test/Squash___Powdery_mildew\", ignore_errors=False, onerror=None)"
      ],
      "execution_count": null,
      "outputs": []
    },
    {
      "cell_type": "markdown",
      "metadata": {
        "id": "ML9_IgtoxI4V",
        "colab_type": "text"
      },
      "source": [
        "## Mengimpor Libraries yang dibutuhkan"
      ]
    },
    {
      "cell_type": "code",
      "metadata": {
        "id": "YsFrRLdQ8QHA",
        "colab_type": "code",
        "colab": {
          "base_uri": "https://localhost:8080/",
          "height": 190
        },
        "outputId": "32c70e78-2ff0-407e-ae2f-938fa8203480"
      },
      "source": [
        "import tensorflow as tf\n",
        "from tensorflow.keras.preprocessing.image import ImageDataGenerator\n",
        "from sklearn.model_selection import train_test_split\n",
        "from skimage.io import imread\n",
        "import matplotlib.pyplot as plt\n",
        "from tensorflow.keras.callbacks import EarlyStopping\n",
        "import numpy as np\n",
        "from skimage.transform import resize\n",
        "from keras.utils.np_utils import to_categorical\n",
        "\n",
        "# Mengihitung waktu lamanya eksekusi tiap sel di Google Colab\n",
        "!pip install ipython-autotime\n",
        "\n",
        "%load_ext autotime"
      ],
      "execution_count": null,
      "outputs": [
        {
          "output_type": "stream",
          "text": [
            "Collecting ipython-autotime\n",
            "  Downloading https://files.pythonhosted.org/packages/e6/f9/0626bbdb322e3a078d968e87e3b01341e7890544de891d0cb613641220e6/ipython-autotime-0.1.tar.bz2\n",
            "Building wheels for collected packages: ipython-autotime\n",
            "  Building wheel for ipython-autotime (setup.py) ... \u001b[?25l\u001b[?25hdone\n",
            "  Created wheel for ipython-autotime: filename=ipython_autotime-0.1-cp36-none-any.whl size=1832 sha256=e053d151e4ec5222f407363bb7d9f1c27fa4f1957d56e537daeb5748631161dd\n",
            "  Stored in directory: /root/.cache/pip/wheels/d2/df/81/2db1e54bc91002cec40334629bc39cfa86dff540b304ebcd6e\n",
            "Successfully built ipython-autotime\n",
            "Installing collected packages: ipython-autotime\n",
            "Successfully installed ipython-autotime-0.1\n"
          ],
          "name": "stdout"
        }
      ]
    },
    {
      "cell_type": "markdown",
      "metadata": {
        "id": "_kFAzksXxVGu",
        "colab_type": "text"
      },
      "source": [
        "## Menampilkan Versi TensorFlow yang digunakan"
      ]
    },
    {
      "cell_type": "code",
      "metadata": {
        "id": "k8MNFKcb8WBZ",
        "colab_type": "code",
        "colab": {
          "base_uri": "https://localhost:8080/",
          "height": 51
        },
        "outputId": "0042401c-e7f3-46e9-c7cf-b6a26c6adac1"
      },
      "source": [
        "print(tf.__version__)"
      ],
      "execution_count": null,
      "outputs": [
        {
          "output_type": "stream",
          "text": [
            "2.3.0\n",
            "time: 2.45 ms\n"
          ],
          "name": "stdout"
        }
      ]
    },
    {
      "cell_type": "markdown",
      "metadata": {
        "id": "i52zugYyxd2h",
        "colab_type": "text"
      },
      "source": [
        "## Preprocessing Datasets"
      ]
    },
    {
      "cell_type": "markdown",
      "metadata": {
        "id": "KI8DeSFEx2G5",
        "colab_type": "text"
      },
      "source": [
        "### Membuat Objek ImageDataGenerator & Data Augmentation"
      ]
    },
    {
      "cell_type": "markdown",
      "metadata": {
        "id": "cU_ZuM4vyHdI",
        "colab_type": "text"
      },
      "source": [
        "Membuat obyek gambar dataset dengan ImageDataGenerator, Autmentasi dataset, dan Membagi dataset validasi (validation) sebesar 20% dan dataset pelatihan (training) sebesar 80%."
      ]
    },
    {
      "cell_type": "code",
      "metadata": {
        "id": "QLR5yo1L7z6J",
        "colab_type": "code",
        "colab": {
          "base_uri": "https://localhost:8080/",
          "height": 34
        },
        "outputId": "b743822b-607e-4a93-9af9-67826f401660"
      },
      "source": [
        "datagen = tf.keras.preprocessing.image.ImageDataGenerator(\n",
        "    rescale=1./255, \n",
        "    validation_split = 0.2,\n",
        "    rotation_range = 20,\n",
        "    horizontal_flip = True,\n",
        "    shear_range = 0.2,\n",
        "    zoom_range = 0.2,    \n",
        "    vertical_flip = True,\n",
        "    fill_mode = \"nearest\")"
      ],
      "execution_count": null,
      "outputs": [
        {
          "output_type": "stream",
          "text": [
            "time: 6.46 ms\n"
          ],
          "name": "stdout"
        }
      ]
    },
    {
      "cell_type": "markdown",
      "metadata": {
        "id": "fPtbXeyYyMHj",
        "colab_type": "text"
      },
      "source": [
        "### Menggunakan Obyek ImageDataGenerator"
      ]
    },
    {
      "cell_type": "code",
      "metadata": {
        "id": "spCgvam78OSs",
        "colab_type": "code",
        "colab": {
          "base_uri": "https://localhost:8080/",
          "height": 119
        },
        "outputId": "789a3e04-a0e0-4a73-b63a-a214456152e4"
      },
      "source": [
        "#Memuat dataset pelatihan & validasi\n",
        "base_dir = os.path.join(\"datasets/train\")\n",
        "\n",
        "img_size = 224\n",
        "batch_size = 128\n",
        "\n",
        "train_generator = datagen.flow_from_directory(\n",
        "    base_dir,\n",
        "    target_size=(img_size, img_size),\n",
        "    batch_size=batch_size, \n",
        "    subset='training',\n",
        "    class_mode= 'categorical')\n",
        "\n",
        "val_generator = datagen.flow_from_directory(\n",
        "    base_dir,\n",
        "    target_size=(img_size, img_size),\n",
        "    batch_size=batch_size, \n",
        "    subset='validation',\n",
        "    class_mode= 'categorical')\n",
        "\n",
        "#Memuat dataset pengujian\n",
        "X_test = []\n",
        "y_test = []\n",
        "labels = ['Apple___Apple_scab',\n",
        "          'Apple___Black_rot',\n",
        "          'Apple___Cedar_apple_rust',\n",
        "          'Apple___healthy',\n",
        "          'Cherry_(including_sour)___Powdery_mildew',\n",
        "          'Cherry_(including_sour)___healthy',\n",
        "          'Corn_(maize)___Cercospora_leaf_spot Gray_leaf_spot',\n",
        "          'Corn_(maize)___Common_rust_',\n",
        "          'Corn_(maize)___Northern_Leaf_Blight',\n",
        "          'Corn_(maize)___healthy',\n",
        "          'Grape___Black_rot',\n",
        "          'Grape___Esca_(Black_Measles)',\n",
        "          'Grape___Leaf_blight_(Isariopsis_Leaf_Spot)',\n",
        "          'Grape___healthy',\n",
        "          'Pepper,_bell___Bacterial_spot',\n",
        "          'Pepper,_bell___healthy',\n",
        "          'Potato___Early_blight',\n",
        "          'Potato___Late_blight',\n",
        "          'Potato___healthy',\n",
        "          'Strawberry___Leaf_scorch',\n",
        "          'Strawberry___Leaf_scorch',\n",
        "          'Tomato___Bacterial_spot',\n",
        "          'Tomato___Early_blight',\n",
        "          'Tomato___Late_blight',\n",
        "          'Tomato___Leaf_Mold',\n",
        "          'Tomato___Septoria_leaf_spot',\n",
        "          'Tomato___Spider_mites Two-spotted_spider_mite',\n",
        "          'Tomato___Target_Spot',\n",
        "          'Tomato___Tomato_Yellow_Leaf_Curl_Virus',\n",
        "          'Tomato___Tomato_mosaic_virus',\n",
        "          'Tomato___healthy']\n",
        "\n",
        "for i,label in enumerate(labels):\n",
        "    folder = os.path.join(\"datasets/test\",label)\n",
        "    files = sorted(os.listdir(folder))\n",
        "    files = [x for x in files if x.endswith(\".jpg\")]\n",
        "    for k,file in enumerate(files):\n",
        "        image_path = os.path.join(folder, file)\n",
        "        \n",
        "        image = imread(image_path)/255.\n",
        "        image = resize(image,(224,224))\n",
        "        X_test.append(image)\n",
        "        category = os.path.split(folder)[-1]\n",
        "        y_test.append(i)\n",
        "\n",
        "X_test = np.array(X_test)\n",
        "y_test = np.array(y_test)\n",
        "\n",
        "#Menampilkan bentuk dari masing-masing dataset\n",
        "for image_batch, label_batch in train_generator:\n",
        "  break\n",
        "print(\"Bentuk array dari dataset train (pelatihan) adalah:\", image_batch.shape,label_batch.shape)\n",
        "for image_batch, label_batch in val_generator:\n",
        "  break\n",
        "print(\"Bentuk array dari dataset validation (validasi) adalah:\", image_batch.shape,label_batch.shape)\n",
        "print(\"Bentuk array dari dataset test (pengujian) adalah:\", X_test.shape,y_test.shape)"
      ],
      "execution_count": null,
      "outputs": [
        {
          "output_type": "stream",
          "text": [
            "Found 34429 images belonging to 31 classes.\n",
            "Found 8595 images belonging to 31 classes.\n",
            "Bentuk array dari dataset train (pelatihan) adalah: (128, 224, 224, 3) (128, 31)\n",
            "Bentuk array dari dataset validation (validasi) adalah: (128, 224, 224, 3) (128, 31)\n",
            "Bentuk array dari dataset test (pengujian) adalah: (601, 224, 224, 3) (601,)\n",
            "time: 14.6 s\n"
          ],
          "name": "stdout"
        }
      ]
    },
    {
      "cell_type": "markdown",
      "metadata": {
        "id": "cIdGru14yhrJ",
        "colab_type": "text"
      },
      "source": [
        "## Menyimpan Label Datasets"
      ]
    },
    {
      "cell_type": "code",
      "metadata": {
        "id": "pDcFgxYu895P",
        "colab_type": "code",
        "colab": {
          "base_uri": "https://localhost:8080/",
          "height": 71
        },
        "outputId": "fabcbfa4-6507-4944-ea80-ff88bde11eaf"
      },
      "source": [
        "print (train_generator.class_indices)\n",
        "\n",
        "labels_txt = '\\n'.join(sorted(train_generator.class_indices.keys()))\n",
        "\n",
        "with open('labels.txt', 'w') as f:\n",
        "  f.write(labels_txt)"
      ],
      "execution_count": null,
      "outputs": [
        {
          "output_type": "stream",
          "text": [
            "{'Apple___Apple_scab': 0, 'Apple___Black_rot': 1, 'Apple___Cedar_apple_rust': 2, 'Apple___healthy': 3, 'Cherry_(including_sour)___Powdery_mildew': 4, 'Cherry_(including_sour)___healthy': 5, 'Corn_(maize)___Cercospora_leaf_spot Gray_leaf_spot': 6, 'Corn_(maize)___Common_rust_': 7, 'Corn_(maize)___Northern_Leaf_Blight': 8, 'Corn_(maize)___healthy': 9, 'Grape___Black_rot': 10, 'Grape___Esca_(Black_Measles)': 11, 'Grape___Leaf_blight_(Isariopsis_Leaf_Spot)': 12, 'Grape___healthy': 13, 'Pepper,_bell___Bacterial_spot': 14, 'Pepper,_bell___healthy': 15, 'Potato___Early_blight': 16, 'Potato___Late_blight': 17, 'Potato___healthy': 18, 'Strawberry___Leaf_scorch': 19, 'Strawberry___healthy': 20, 'Tomato___Bacterial_spot': 21, 'Tomato___Early_blight': 22, 'Tomato___Late_blight': 23, 'Tomato___Leaf_Mold': 24, 'Tomato___Septoria_leaf_spot': 25, 'Tomato___Spider_mites Two-spotted_spider_mite': 26, 'Tomato___Target_Spot': 27, 'Tomato___Tomato_Yellow_Leaf_Curl_Virus': 28, 'Tomato___Tomato_mosaic_virus': 29, 'Tomato___healthy': 30}\n",
            "time: 6.23 ms\n"
          ],
          "name": "stdout"
        }
      ]
    },
    {
      "cell_type": "markdown",
      "metadata": {
        "id": "mKW3wxvGytma",
        "colab_type": "text"
      },
      "source": [
        "## Membuat Model dari Jaringan CNN yang Sudah dipelajari Sebelumnya (pre-trained convnets)"
      ]
    },
    {
      "cell_type": "code",
      "metadata": {
        "id": "BsNzogMa9ZQx",
        "colab_type": "code",
        "colab": {
          "base_uri": "https://localhost:8080/",
          "height": 88
        },
        "outputId": "d1de81fb-4a79-46d1-813b-c63daf74fa90"
      },
      "source": [
        "IMG_SHAPE = (224, 224, 3)\n",
        "# Membuat model dasar (base model) dari pre-trained model MobileNet\n",
        "base_model = tf.keras.applications.MobileNet(input_shape=IMG_SHAPE,\n",
        "                                              include_top=False, \n",
        "                                              weights='imagenet')"
      ],
      "execution_count": null,
      "outputs": [
        {
          "output_type": "stream",
          "text": [
            "Downloading data from https://storage.googleapis.com/tensorflow/keras-applications/mobilenet/mobilenet_1_0_224_tf_no_top.h5\n",
            "17227776/17225924 [==============================] - 0s 0us/step\n",
            "time: 6.66 s\n"
          ],
          "name": "stdout"
        }
      ]
    },
    {
      "cell_type": "markdown",
      "metadata": {
        "id": "nU4xTUdFy0FS",
        "colab_type": "text"
      },
      "source": [
        "### Feature Extraction"
      ]
    },
    {
      "cell_type": "code",
      "metadata": {
        "id": "wDlRKJ6U9k9C",
        "colab_type": "code",
        "colab": {
          "base_uri": "https://localhost:8080/",
          "height": 1000
        },
        "outputId": "49bb713e-9e10-46b4-f6b7-bfcb98e46f16"
      },
      "source": [
        "base_model.trainable = False\n",
        "base_model.summary()"
      ],
      "execution_count": null,
      "outputs": [
        {
          "output_type": "stream",
          "text": [
            "Model: \"mobilenet_1.00_224\"\n",
            "_________________________________________________________________\n",
            "Layer (type)                 Output Shape              Param #   \n",
            "=================================================================\n",
            "input_1 (InputLayer)         [(None, 224, 224, 3)]     0         \n",
            "_________________________________________________________________\n",
            "conv1_pad (ZeroPadding2D)    (None, 225, 225, 3)       0         \n",
            "_________________________________________________________________\n",
            "conv1 (Conv2D)               (None, 112, 112, 32)      864       \n",
            "_________________________________________________________________\n",
            "conv1_bn (BatchNormalization (None, 112, 112, 32)      128       \n",
            "_________________________________________________________________\n",
            "conv1_relu (ReLU)            (None, 112, 112, 32)      0         \n",
            "_________________________________________________________________\n",
            "conv_dw_1 (DepthwiseConv2D)  (None, 112, 112, 32)      288       \n",
            "_________________________________________________________________\n",
            "conv_dw_1_bn (BatchNormaliza (None, 112, 112, 32)      128       \n",
            "_________________________________________________________________\n",
            "conv_dw_1_relu (ReLU)        (None, 112, 112, 32)      0         \n",
            "_________________________________________________________________\n",
            "conv_pw_1 (Conv2D)           (None, 112, 112, 64)      2048      \n",
            "_________________________________________________________________\n",
            "conv_pw_1_bn (BatchNormaliza (None, 112, 112, 64)      256       \n",
            "_________________________________________________________________\n",
            "conv_pw_1_relu (ReLU)        (None, 112, 112, 64)      0         \n",
            "_________________________________________________________________\n",
            "conv_pad_2 (ZeroPadding2D)   (None, 113, 113, 64)      0         \n",
            "_________________________________________________________________\n",
            "conv_dw_2 (DepthwiseConv2D)  (None, 56, 56, 64)        576       \n",
            "_________________________________________________________________\n",
            "conv_dw_2_bn (BatchNormaliza (None, 56, 56, 64)        256       \n",
            "_________________________________________________________________\n",
            "conv_dw_2_relu (ReLU)        (None, 56, 56, 64)        0         \n",
            "_________________________________________________________________\n",
            "conv_pw_2 (Conv2D)           (None, 56, 56, 128)       8192      \n",
            "_________________________________________________________________\n",
            "conv_pw_2_bn (BatchNormaliza (None, 56, 56, 128)       512       \n",
            "_________________________________________________________________\n",
            "conv_pw_2_relu (ReLU)        (None, 56, 56, 128)       0         \n",
            "_________________________________________________________________\n",
            "conv_dw_3 (DepthwiseConv2D)  (None, 56, 56, 128)       1152      \n",
            "_________________________________________________________________\n",
            "conv_dw_3_bn (BatchNormaliza (None, 56, 56, 128)       512       \n",
            "_________________________________________________________________\n",
            "conv_dw_3_relu (ReLU)        (None, 56, 56, 128)       0         \n",
            "_________________________________________________________________\n",
            "conv_pw_3 (Conv2D)           (None, 56, 56, 128)       16384     \n",
            "_________________________________________________________________\n",
            "conv_pw_3_bn (BatchNormaliza (None, 56, 56, 128)       512       \n",
            "_________________________________________________________________\n",
            "conv_pw_3_relu (ReLU)        (None, 56, 56, 128)       0         \n",
            "_________________________________________________________________\n",
            "conv_pad_4 (ZeroPadding2D)   (None, 57, 57, 128)       0         \n",
            "_________________________________________________________________\n",
            "conv_dw_4 (DepthwiseConv2D)  (None, 28, 28, 128)       1152      \n",
            "_________________________________________________________________\n",
            "conv_dw_4_bn (BatchNormaliza (None, 28, 28, 128)       512       \n",
            "_________________________________________________________________\n",
            "conv_dw_4_relu (ReLU)        (None, 28, 28, 128)       0         \n",
            "_________________________________________________________________\n",
            "conv_pw_4 (Conv2D)           (None, 28, 28, 256)       32768     \n",
            "_________________________________________________________________\n",
            "conv_pw_4_bn (BatchNormaliza (None, 28, 28, 256)       1024      \n",
            "_________________________________________________________________\n",
            "conv_pw_4_relu (ReLU)        (None, 28, 28, 256)       0         \n",
            "_________________________________________________________________\n",
            "conv_dw_5 (DepthwiseConv2D)  (None, 28, 28, 256)       2304      \n",
            "_________________________________________________________________\n",
            "conv_dw_5_bn (BatchNormaliza (None, 28, 28, 256)       1024      \n",
            "_________________________________________________________________\n",
            "conv_dw_5_relu (ReLU)        (None, 28, 28, 256)       0         \n",
            "_________________________________________________________________\n",
            "conv_pw_5 (Conv2D)           (None, 28, 28, 256)       65536     \n",
            "_________________________________________________________________\n",
            "conv_pw_5_bn (BatchNormaliza (None, 28, 28, 256)       1024      \n",
            "_________________________________________________________________\n",
            "conv_pw_5_relu (ReLU)        (None, 28, 28, 256)       0         \n",
            "_________________________________________________________________\n",
            "conv_pad_6 (ZeroPadding2D)   (None, 29, 29, 256)       0         \n",
            "_________________________________________________________________\n",
            "conv_dw_6 (DepthwiseConv2D)  (None, 14, 14, 256)       2304      \n",
            "_________________________________________________________________\n",
            "conv_dw_6_bn (BatchNormaliza (None, 14, 14, 256)       1024      \n",
            "_________________________________________________________________\n",
            "conv_dw_6_relu (ReLU)        (None, 14, 14, 256)       0         \n",
            "_________________________________________________________________\n",
            "conv_pw_6 (Conv2D)           (None, 14, 14, 512)       131072    \n",
            "_________________________________________________________________\n",
            "conv_pw_6_bn (BatchNormaliza (None, 14, 14, 512)       2048      \n",
            "_________________________________________________________________\n",
            "conv_pw_6_relu (ReLU)        (None, 14, 14, 512)       0         \n",
            "_________________________________________________________________\n",
            "conv_dw_7 (DepthwiseConv2D)  (None, 14, 14, 512)       4608      \n",
            "_________________________________________________________________\n",
            "conv_dw_7_bn (BatchNormaliza (None, 14, 14, 512)       2048      \n",
            "_________________________________________________________________\n",
            "conv_dw_7_relu (ReLU)        (None, 14, 14, 512)       0         \n",
            "_________________________________________________________________\n",
            "conv_pw_7 (Conv2D)           (None, 14, 14, 512)       262144    \n",
            "_________________________________________________________________\n",
            "conv_pw_7_bn (BatchNormaliza (None, 14, 14, 512)       2048      \n",
            "_________________________________________________________________\n",
            "conv_pw_7_relu (ReLU)        (None, 14, 14, 512)       0         \n",
            "_________________________________________________________________\n",
            "conv_dw_8 (DepthwiseConv2D)  (None, 14, 14, 512)       4608      \n",
            "_________________________________________________________________\n",
            "conv_dw_8_bn (BatchNormaliza (None, 14, 14, 512)       2048      \n",
            "_________________________________________________________________\n",
            "conv_dw_8_relu (ReLU)        (None, 14, 14, 512)       0         \n",
            "_________________________________________________________________\n",
            "conv_pw_8 (Conv2D)           (None, 14, 14, 512)       262144    \n",
            "_________________________________________________________________\n",
            "conv_pw_8_bn (BatchNormaliza (None, 14, 14, 512)       2048      \n",
            "_________________________________________________________________\n",
            "conv_pw_8_relu (ReLU)        (None, 14, 14, 512)       0         \n",
            "_________________________________________________________________\n",
            "conv_dw_9 (DepthwiseConv2D)  (None, 14, 14, 512)       4608      \n",
            "_________________________________________________________________\n",
            "conv_dw_9_bn (BatchNormaliza (None, 14, 14, 512)       2048      \n",
            "_________________________________________________________________\n",
            "conv_dw_9_relu (ReLU)        (None, 14, 14, 512)       0         \n",
            "_________________________________________________________________\n",
            "conv_pw_9 (Conv2D)           (None, 14, 14, 512)       262144    \n",
            "_________________________________________________________________\n",
            "conv_pw_9_bn (BatchNormaliza (None, 14, 14, 512)       2048      \n",
            "_________________________________________________________________\n",
            "conv_pw_9_relu (ReLU)        (None, 14, 14, 512)       0         \n",
            "_________________________________________________________________\n",
            "conv_dw_10 (DepthwiseConv2D) (None, 14, 14, 512)       4608      \n",
            "_________________________________________________________________\n",
            "conv_dw_10_bn (BatchNormaliz (None, 14, 14, 512)       2048      \n",
            "_________________________________________________________________\n",
            "conv_dw_10_relu (ReLU)       (None, 14, 14, 512)       0         \n",
            "_________________________________________________________________\n",
            "conv_pw_10 (Conv2D)          (None, 14, 14, 512)       262144    \n",
            "_________________________________________________________________\n",
            "conv_pw_10_bn (BatchNormaliz (None, 14, 14, 512)       2048      \n",
            "_________________________________________________________________\n",
            "conv_pw_10_relu (ReLU)       (None, 14, 14, 512)       0         \n",
            "_________________________________________________________________\n",
            "conv_dw_11 (DepthwiseConv2D) (None, 14, 14, 512)       4608      \n",
            "_________________________________________________________________\n",
            "conv_dw_11_bn (BatchNormaliz (None, 14, 14, 512)       2048      \n",
            "_________________________________________________________________\n",
            "conv_dw_11_relu (ReLU)       (None, 14, 14, 512)       0         \n",
            "_________________________________________________________________\n",
            "conv_pw_11 (Conv2D)          (None, 14, 14, 512)       262144    \n",
            "_________________________________________________________________\n",
            "conv_pw_11_bn (BatchNormaliz (None, 14, 14, 512)       2048      \n",
            "_________________________________________________________________\n",
            "conv_pw_11_relu (ReLU)       (None, 14, 14, 512)       0         \n",
            "_________________________________________________________________\n",
            "conv_pad_12 (ZeroPadding2D)  (None, 15, 15, 512)       0         \n",
            "_________________________________________________________________\n",
            "conv_dw_12 (DepthwiseConv2D) (None, 7, 7, 512)         4608      \n",
            "_________________________________________________________________\n",
            "conv_dw_12_bn (BatchNormaliz (None, 7, 7, 512)         2048      \n",
            "_________________________________________________________________\n",
            "conv_dw_12_relu (ReLU)       (None, 7, 7, 512)         0         \n",
            "_________________________________________________________________\n",
            "conv_pw_12 (Conv2D)          (None, 7, 7, 1024)        524288    \n",
            "_________________________________________________________________\n",
            "conv_pw_12_bn (BatchNormaliz (None, 7, 7, 1024)        4096      \n",
            "_________________________________________________________________\n",
            "conv_pw_12_relu (ReLU)       (None, 7, 7, 1024)        0         \n",
            "_________________________________________________________________\n",
            "conv_dw_13 (DepthwiseConv2D) (None, 7, 7, 1024)        9216      \n",
            "_________________________________________________________________\n",
            "conv_dw_13_bn (BatchNormaliz (None, 7, 7, 1024)        4096      \n",
            "_________________________________________________________________\n",
            "conv_dw_13_relu (ReLU)       (None, 7, 7, 1024)        0         \n",
            "_________________________________________________________________\n",
            "conv_pw_13 (Conv2D)          (None, 7, 7, 1024)        1048576   \n",
            "_________________________________________________________________\n",
            "conv_pw_13_bn (BatchNormaliz (None, 7, 7, 1024)        4096      \n",
            "_________________________________________________________________\n",
            "conv_pw_13_relu (ReLU)       (None, 7, 7, 1024)        0         \n",
            "=================================================================\n",
            "Total params: 3,228,864\n",
            "Trainable params: 0\n",
            "Non-trainable params: 3,228,864\n",
            "_________________________________________________________________\n",
            "time: 35.1 ms\n"
          ],
          "name": "stdout"
        }
      ]
    },
    {
      "cell_type": "markdown",
      "metadata": {
        "id": "ex7kSTzXzE2I",
        "colab_type": "text"
      },
      "source": [
        "## Membuat Model Arsitektur CNN"
      ]
    },
    {
      "cell_type": "markdown",
      "metadata": {
        "id": "csfkNloMzQWQ",
        "colab_type": "text"
      },
      "source": [
        "Membuat arsitektur CNN mulai dari Lapisan Masukkan (Input Layer), Lapisan Konvolusi (Convolution Layer), Lapisan aktivasi (Activation Layer), Pooling Layer, sampai Lapisan terhubung erat (Fully Connected Layer/Densely Connected Layer)."
      ]
    },
    {
      "cell_type": "code",
      "metadata": {
        "id": "1Ji1Xs0D9or9",
        "colab_type": "code",
        "colab": {
          "base_uri": "https://localhost:8080/",
          "height": 34
        },
        "outputId": "0352f8dd-6d47-4ad0-c0eb-bf83343e3484"
      },
      "source": [
        "model = tf.keras.models.Sequential([\n",
        "    base_model,    \n",
        "    tf.keras.layers.Conv2D(32, 3, activation='relu'),\n",
        "    #tf.keras.layers.Dropout(0.2),\n",
        "    tf.keras.layers.GlobalAveragePooling2D(),\n",
        "    tf.keras.layers.Dense(31, activation='softmax')\n",
        "])"
      ],
      "execution_count": null,
      "outputs": [
        {
          "output_type": "stream",
          "text": [
            "time: 192 ms\n"
          ],
          "name": "stdout"
        }
      ]
    },
    {
      "cell_type": "markdown",
      "metadata": {
        "id": "Fxbh9zgRzT5h",
        "colab_type": "text"
      },
      "source": [
        "### Mengkompilasi Model"
      ]
    },
    {
      "cell_type": "code",
      "metadata": {
        "id": "GdlCU1DL99RC",
        "colab_type": "code",
        "colab": {
          "base_uri": "https://localhost:8080/",
          "height": 306
        },
        "outputId": "6e8910b9-4851-41a9-bfe3-bc79e4f07eeb"
      },
      "source": [
        "model.compile(\"adam\",loss=\"categorical_crossentropy\",metrics=[\"acc\"])\n",
        "model.summary()"
      ],
      "execution_count": null,
      "outputs": [
        {
          "output_type": "stream",
          "text": [
            "Model: \"sequential\"\n",
            "_________________________________________________________________\n",
            "Layer (type)                 Output Shape              Param #   \n",
            "=================================================================\n",
            "mobilenet_1.00_224 (Function (None, 7, 7, 1024)        3228864   \n",
            "_________________________________________________________________\n",
            "conv2d (Conv2D)              (None, 5, 5, 32)          294944    \n",
            "_________________________________________________________________\n",
            "global_average_pooling2d (Gl (None, 32)                0         \n",
            "_________________________________________________________________\n",
            "dense (Dense)                (None, 31)                1023      \n",
            "=================================================================\n",
            "Total params: 3,524,831\n",
            "Trainable params: 295,967\n",
            "Non-trainable params: 3,228,864\n",
            "_________________________________________________________________\n",
            "time: 26.5 ms\n"
          ],
          "name": "stdout"
        }
      ]
    },
    {
      "cell_type": "markdown",
      "metadata": {
        "id": "GRkcGbsKzbSJ",
        "colab_type": "text"
      },
      "source": [
        "### Melathi Model"
      ]
    },
    {
      "cell_type": "code",
      "metadata": {
        "id": "I_nEgtEG-KVm",
        "colab_type": "code",
        "colab": {
          "base_uri": "https://localhost:8080/",
          "height": 714
        },
        "outputId": "2a027efa-892a-492e-d519-7e93ff6463d3"
      },
      "source": [
        "#es = EarlyStopping(monitor=\"val_loss\", patience=7, verbose=1, min_delta=0.09, mode=\"auto\")\n",
        "history = model.fit(train_generator, \n",
        "                    epochs=20, \n",
        "                    validation_data=val_generator)"
      ],
      "execution_count": null,
      "outputs": [
        {
          "output_type": "stream",
          "text": [
            "Epoch 1/20\n",
            "269/269 [==============================] - 484s 2s/step - loss: 1.2826 - acc: 0.6283 - val_loss: 0.5233 - val_acc: 0.8361\n",
            "Epoch 2/20\n",
            "269/269 [==============================] - 483s 2s/step - loss: 0.3888 - acc: 0.8723 - val_loss: 0.3859 - val_acc: 0.8734\n",
            "Epoch 3/20\n",
            "269/269 [==============================] - 481s 2s/step - loss: 0.3044 - acc: 0.8981 - val_loss: 0.3542 - val_acc: 0.8844\n",
            "Epoch 4/20\n",
            "269/269 [==============================] - 479s 2s/step - loss: 0.2640 - acc: 0.9116 - val_loss: 0.3066 - val_acc: 0.9020\n",
            "Epoch 5/20\n",
            "269/269 [==============================] - 494s 2s/step - loss: 0.2331 - acc: 0.9215 - val_loss: 0.3093 - val_acc: 0.9025\n",
            "Epoch 6/20\n",
            "269/269 [==============================] - 497s 2s/step - loss: 0.2244 - acc: 0.9242 - val_loss: 0.2747 - val_acc: 0.9109\n",
            "Epoch 7/20\n",
            "269/269 [==============================] - 504s 2s/step - loss: 0.2136 - acc: 0.9288 - val_loss: 0.2946 - val_acc: 0.9047\n",
            "Epoch 8/20\n",
            "269/269 [==============================] - 504s 2s/step - loss: 0.2019 - acc: 0.9330 - val_loss: 0.2697 - val_acc: 0.9153\n",
            "Epoch 9/20\n",
            "269/269 [==============================] - 498s 2s/step - loss: 0.1949 - acc: 0.9341 - val_loss: 0.2626 - val_acc: 0.9198\n",
            "Epoch 10/20\n",
            "269/269 [==============================] - 497s 2s/step - loss: 0.1814 - acc: 0.9396 - val_loss: 0.2463 - val_acc: 0.9211\n",
            "Epoch 11/20\n",
            "269/269 [==============================] - 508s 2s/step - loss: 0.1892 - acc: 0.9362 - val_loss: 0.2903 - val_acc: 0.9086\n",
            "Epoch 12/20\n",
            "269/269 [==============================] - 500s 2s/step - loss: 0.1818 - acc: 0.9366 - val_loss: 0.2765 - val_acc: 0.9158\n",
            "Epoch 13/20\n",
            "269/269 [==============================] - 492s 2s/step - loss: 0.1675 - acc: 0.9426 - val_loss: 0.2815 - val_acc: 0.9139\n",
            "Epoch 14/20\n",
            "269/269 [==============================] - 499s 2s/step - loss: 0.1880 - acc: 0.9367 - val_loss: 0.2411 - val_acc: 0.9262\n",
            "Epoch 15/20\n",
            "269/269 [==============================] - 504s 2s/step - loss: 0.1790 - acc: 0.9407 - val_loss: 0.2388 - val_acc: 0.9265\n",
            "Epoch 16/20\n",
            "269/269 [==============================] - 504s 2s/step - loss: 0.1725 - acc: 0.9423 - val_loss: 0.2552 - val_acc: 0.9208\n",
            "Epoch 17/20\n",
            "269/269 [==============================] - 501s 2s/step - loss: 0.1666 - acc: 0.9439 - val_loss: 0.2325 - val_acc: 0.9291\n",
            "Epoch 18/20\n",
            "269/269 [==============================] - 497s 2s/step - loss: 0.1582 - acc: 0.9464 - val_loss: 0.3131 - val_acc: 0.9039\n",
            "Epoch 19/20\n",
            "269/269 [==============================] - 499s 2s/step - loss: 0.1522 - acc: 0.9484 - val_loss: 0.2384 - val_acc: 0.9257\n",
            "Epoch 20/20\n",
            "269/269 [==============================] - 499s 2s/step - loss: 0.1506 - acc: 0.9482 - val_loss: 0.2571 - val_acc: 0.9225\n",
            "time: 2h 46min 4s\n"
          ],
          "name": "stdout"
        }
      ]
    },
    {
      "cell_type": "markdown",
      "metadata": {
        "id": "0VjNo8EqzvyB",
        "colab_type": "text"
      },
      "source": [
        "### Menampilkan Grafik Model Hasil Pelatihan"
      ]
    },
    {
      "cell_type": "code",
      "metadata": {
        "id": "6wJ5S8ih-8_x",
        "colab_type": "code",
        "colab": {
          "base_uri": "https://localhost:8080/",
          "height": 330
        },
        "outputId": "978d94e7-bfe7-4da9-9b37-550df2b83873"
      },
      "source": [
        "fig = plt.figure(figsize=(7, 4))\n",
        "fig.set_figheight(10)\n",
        "fig.set_figwidth(15)\n",
        "\n",
        "plt.subplot(2, 2, 1)\n",
        "plt.plot(history.history[\"acc\"],label = \"Training Accuracy\")\n",
        "plt.plot(history.history[\"val_acc\"],label = \"Validation Accuracy\")\n",
        "plt.legend()\n",
        "plt.title(\"Kurva Tingkat Akurasi\", size=15)\n",
        "plt.grid(zorder = 0)\n",
        "\n",
        "plt.subplot(2, 2, 2)\n",
        "plt.plot(history.history[\"loss\"],label = \"Training Loss\")\n",
        "plt.plot(history.history[\"val_loss\"],label = \"Validation Loss\")\n",
        "plt.legend()\n",
        "plt.title(\"Kurva Tingkat Error\", size=15)\n",
        "plt.grid(zorder = 0)\n",
        "plt.show()"
      ],
      "execution_count": null,
      "outputs": [
        {
          "output_type": "display_data",
          "data": {
            "image/png": "[encoded data removed]",
            "text/plain": [
              "<Figure size 1080x720 with 2 Axes>"
            ]
          },
          "metadata": {
            "tags": [],
            "needs_background": "light"
          }
        },
        {
          "output_type": "stream",
          "text": [
            "time: 339 ms\n"
          ],
          "name": "stdout"
        }
      ]
    },
    {
      "cell_type": "markdown",
      "metadata": {
        "id": "dBhuf_mvz5kf",
        "colab_type": "text"
      },
      "source": [
        "## Memuat Dataset Pengujian"
      ]
    },
    {
      "cell_type": "code",
      "metadata": {
        "id": "GsmiaoRRR2lS",
        "colab_type": "code",
        "colab": {
          "base_uri": "https://localhost:8080/",
          "height": 34
        },
        "outputId": "4fcd1150-3a20-4ee3-be0a-49f86540b599"
      },
      "source": [
        "y_test2 = to_categorical(y_test)\n",
        "X_test3, y_test3 = (X_test, y_test2)"
      ],
      "execution_count": null,
      "outputs": [
        {
          "output_type": "stream",
          "text": [
            "time: 1.46 ms\n"
          ],
          "name": "stdout"
        }
      ]
    },
    {
      "cell_type": "markdown",
      "metadata": {
        "id": "IpsC9mrI0H9X",
        "colab_type": "text"
      },
      "source": [
        "## Evaluasi Model"
      ]
    },
    {
      "cell_type": "code",
      "metadata": {
        "id": "yPAc4PomSAAO",
        "colab_type": "code",
        "colab": {
          "base_uri": "https://localhost:8080/",
          "height": 918
        },
        "outputId": "e36aadbc-06a6-4f42-a5a3-95e25c84ef36"
      },
      "source": [
        "#Menampilkan matriks yang benar dan matriks hasil prediksi\n",
        "\n",
        "#Label yang benar\n",
        "y_true = np.argmax(y_test2,axis=1)\n",
        "\n",
        "#Label prediksi\n",
        "Y_pred = model.predict(X_test)\n",
        "y_pred = np.argmax(Y_pred, axis=1)\n",
        "\n",
        "print(y_true)\n",
        "print(y_pred)"
      ],
      "execution_count": null,
      "outputs": [
        {
          "output_type": "stream",
          "text": [
            "[ 6  6  6  6  6  6  6  6  6  6  6  6  6  6  6  6  6  6  6  6  6  6  6  6\n",
            "  6  6  6  6  6  6  6  6  6  6  6  6  6  6  6  6  6  6  6  6  6  6  6  6\n",
            "  6  6  6  6  6  8  8  8  8  8  8  8  8  8  8  8  8  8  8  8  8  8  8  8\n",
            "  8  8  8  8  8  8  8  8  8  8  8  8  8  8  8  8  8  8  8  8  8  8  8  8\n",
            "  8  8  8  8  8  8  8  8  8  8  8  8  8  8  8  8  8  8  8  8  9  9  9  9\n",
            "  9  9  9  9  9  9  9  9  9  9  9  9  9  9  9  9  9  9  9  9  9  9  9  9\n",
            "  9  9  9  9  9  9  9  9  9  9  9  9  9  9  9  9  9  9  9  9  9  9  9  9\n",
            "  9  9  9  9  9  9  9  9  9  9  9  9  9  9  9  9  9  9  9  9  9  9  9  9\n",
            "  9  9  9  9  9  9  9  9  9  9  9  9  9  9  9  9  9  9  9  9  9  9  9  9\n",
            "  9  9  9  9  9  9  9  9  9  9  9  9  9  9  9  9  9  9  9  9  9  9  9  9\n",
            "  9  9  9  9  9  9  9  9  9  9  9  9  9  9  9  9  9  9  9  9  9  9  9  9\n",
            "  9  9  9  9  9  9  9  9  9  9  9  9  9  9  9  9  9  9  9  9  9  9  9  9\n",
            "  9  9  9  9  9  9  9  9  9  9  9  9  9  9  9  9  9  9  9  9  9  9  9  9\n",
            "  9  9  9  9  9  9  9  9  9  9  9  9  9  9  9  9  9  9  9  9  9  9  9  9\n",
            "  9  9  9  9  9  9  9  9  9  9  9  9  9  9  9  9  9  9  9  9  9  9  9  9\n",
            "  9  9  9  9  9  9  9  9  9  9  9  9  9  9  9  9  9  9  9  9  9  9  9  9\n",
            "  9  9  9  9  9  9  9  9  9  9  9  9  9  9  9  9  9  9  9  9  9  9  9  9\n",
            "  9  9  9  9  9  9  9  9  9  9  9  9  9  9  9  9  9  9  9  9  9  9  9  9\n",
            "  9  9  9  9  9  9  9  9  9  9  9  9  9  9  9  9  9  9  9  9  9  9  9  9\n",
            "  9  9  9  9  9  9  9  9  9  9  9  9  9  9  9  9  9  9  9  9  9  9  9  9\n",
            "  9  9  9  9  9  9  9  9  9  9  9  9  9  9  9  9  9  9  9  9  9  9  9  9\n",
            "  9  9  9  9  9  9  9  9  9  9  9  9  9  9  9  9  9  9  9  9  9  9  9  9\n",
            "  9  9  9  9  9  9  9  9  9  9  9  9  9  9  9  9  9  9  9  9  9  9  9  9\n",
            "  9  9  9  9  9  9  9  9  9  9  9  9  9  9  9  9  9  9  9 23 23 23 23 23\n",
            " 23 23 23 23 23 23 23 23 23 23 23 23 23 23 23 23 23 23 23 23 23 23 23 23\n",
            " 23]\n",
            "[ 6  6  6  6  6  6  6  6  6  6  6  6  6  6  6  6  6  6  6  6  6  6  6  6\n",
            "  8  9  9  6  6  6 28  6  8  6  6  6  6  6  6  8  6  6  6  6  6  6  6  8\n",
            "  6  6  6  6  2  8  8  8  8  8  8  8  8  8 21  8  8  8  6  8  8  8  8  8\n",
            "  8  8  8  8  8  8  8  8  8  8  8  6  6  8  6  8  8  8  8  8  8  8  8  8\n",
            "  8  8  8  8  8  8  8  8  8  8  8  8  8  8  8  8  8  8  8  8  9  9  9  9\n",
            "  9  9  9  9  9  9  9  9  9  9  9  9  9  9  9  9  9  9  9  9  9  9  9  9\n",
            "  9  9  9  9  9  9  9  9  9  9  9  9  9  9  9  9  9  9  9  9  9  9  9  9\n",
            "  9  9  9  9  9  9  9  9  9  9  9  9  9  9  9  9  9  9  9  9  9  9  9  9\n",
            "  9  9  9  9  9  9  9  9  9  9  9  9  9  9  9  9  9  9  9  9  9  9  9  9\n",
            "  9  9  9  9  9  9  9  9  9  9  9  9  9  9  9  9  9  9  9  9  9  9  9  9\n",
            "  9  9  9  9  9  9  9  9  9  9  9  9  9  9  9  9  9  9  9  9  9  9  9  9\n",
            "  9  9  9  9  9  9  9  9  9  9  9  9  9  9  9  9  9  9  9  9  9  9  9  9\n",
            "  9  9  9  9  9  9  9  9  9  9  9  9  9  9  9  9  9  9  9  9  9  9  9  9\n",
            "  9  9  9  9  9  9  9  9  9  9  9  9  9  9  9  9  9  9  9  9  9  9  9  9\n",
            "  9  9  9  9  9  9  9  9  9  9  9  9  9  9  9  9  9  9  9  9  9  9  9  9\n",
            "  9  9  9  9  9  9  9  9  9  9  9  9  9  9  9  9  9  9  9  9  9  9  9  9\n",
            "  9  9  9  9  9  9  9  9  9  9  9  9  9  9  9  9  9  9  9  9  9  9  9  9\n",
            "  9  9  9  9  9  9  9  9  9  9  9  9  9  9  9  9  9  9  9  9  9  9  9  9\n",
            "  9  9  9  9  9  9  9  9  9  9  9  9  9  9  9  9  9  9  9  9  9  9  9  9\n",
            "  9  9  9  9  9  9  9  9  9  9  9  9  9  9  9  9  9  9  9  9  9  9  9  9\n",
            "  9  9  9  9  9  9  9  9  9  9  9  9  9  9  9  9  9  9  9  9  9  9  9  9\n",
            "  9  9  9  9  9  9  9  9  9  9  9  9  9  9  9  9  9  9  9  9  9  9  9  9\n",
            "  9  9  9  9  9  9  9  9  9  9  9  9  9  9  9  9  9  9  9  9  9  9  9  9\n",
            "  9  9  9  9  9  9  9  9  9  9  9  9  9  9  9  9  9  9  9 23 23 23 23 23\n",
            " 23 23 23 23 23 23 23 23 23 23 23 23 23 23 23 23 23 23 23 23 23 23 23 23\n",
            " 23]\n",
            "time: 1.65 s\n"
          ],
          "name": "stdout"
        }
      ]
    },
    {
      "cell_type": "markdown",
      "metadata": {
        "id": "s_9daykG0MAK",
        "colab_type": "text"
      },
      "source": [
        "## Membuat Confusion Matrix"
      ]
    },
    {
      "cell_type": "code",
      "metadata": {
        "id": "GhoUQvs1SYko",
        "colab_type": "code",
        "colab": {
          "base_uri": "https://localhost:8080/",
          "height": 506
        },
        "outputId": "8e05cfd8-e0ca-40af-8c88-1b83c73110dc"
      },
      "source": [
        "from sklearn.metrics import confusion_matrix\n",
        "from sklearn.utils.multiclass import unique_labels\n",
        "\n",
        "def plot_confusion_matrix(y_true, y_pred, classes,\n",
        "                          normalize=False,\n",
        "                          title=None,\n",
        "                          cmap=plt.cm.Blues):\n",
        "    \"\"\"\n",
        "    This function prints and plots the confusion matrix.\n",
        "    Normalization can be applied by setting `normalize=True`.\n",
        "    \"\"\"\n",
        "    if not title:\n",
        "        if normalize:\n",
        "            title = 'Normalized confusion matrix'\n",
        "        else:\n",
        "            title = 'Confusion matrix, without normalization'\n",
        "\n",
        "    # Compute confusion matrix\n",
        "    cm = confusion_matrix(y_true, y_pred)\n",
        "    # Only use the labels that appear in the data\n",
        "    #classes = classes[unique_labels(y_true, y_pred)]\n",
        "    if normalize:\n",
        "        cm = cm.astype('float') / cm.sum(axis=1)[:, np.newaxis]\n",
        "        print(\"Normalized confusion matrix\")\n",
        "    else:\n",
        "        print('Confusion matrix, without normalization')\n",
        "\n",
        "    print(cm)\n",
        "\n",
        "    fig, ax = plt.subplots(figsize=(5,5))\n",
        "    im = ax.imshow(cm, interpolation='nearest', cmap=cmap)\n",
        "    #ax.figure.colorbar(im, ax=ax)\n",
        "    # We want to show all ticks...\n",
        "    ax.set(xticks=np.arange(cm.shape[1]),\n",
        "           yticks=np.arange(cm.shape[0]),\n",
        "           # ... and label them with the respective list entries\n",
        "           xticklabels=classes, yticklabels=classes,\n",
        "           title=title,\n",
        "           ylabel='Label Benar',\n",
        "           xlabel='Label Prediksi')\n",
        "\n",
        "    # Rotate the tick labels and set their alignment.\n",
        "    plt.setp(ax.get_xticklabels(), rotation=45, ha=\"right\",\n",
        "             rotation_mode=\"anchor\")\n",
        "\n",
        "    # Loop over data dimensions and create text annotations.\n",
        "    fmt = '.2f' if normalize else 'd'\n",
        "    thresh = cm.max() / 2.\n",
        "    for i in range(cm.shape[0]):\n",
        "        for j in range(cm.shape[1]):\n",
        "            ax.text(j, i, format(cm[i, j], fmt),\n",
        "                    ha=\"center\", va=\"center\",\n",
        "                    color=\"white\" if cm[i, j] > thresh else \"black\")\n",
        "    fig.tight_layout()\n",
        "    return ax\n",
        "\n",
        "\n",
        "np.set_printoptions(precision=2)\n",
        "\n",
        "plot_confusion_matrix(y_true, y_pred, classes=labels, normalize=True,\n",
        "                      title='Normalized confusion matrix')"
      ],
      "execution_count": null,
      "outputs": [
        {
          "output_type": "stream",
          "text": [
            "Normalized confusion matrix\n",
            "[[ nan  nan  nan  nan  nan  nan  nan]\n",
            " [0.02 0.85 0.08 0.04 0.   0.   0.02]\n",
            " [0.   0.06 0.92 0.   0.02 0.   0.  ]\n",
            " [0.   0.   0.   1.   0.   0.   0.  ]\n",
            " [ nan  nan  nan  nan  nan  nan  nan]\n",
            " [0.   0.   0.   0.   0.   1.   0.  ]\n",
            " [ nan  nan  nan  nan  nan  nan  nan]]\n"
          ],
          "name": "stdout"
        },
        {
          "output_type": "stream",
          "text": [
            "/usr/local/lib/python3.6/dist-packages/ipykernel_launcher.py:23: RuntimeWarning: invalid value encountered in true_divide\n"
          ],
          "name": "stderr"
        },
        {
          "output_type": "execute_result",
          "data": {
            "text/plain": [
              "<matplotlib.axes._subplots.AxesSubplot at 0x7fe525fa34a8>"
            ]
          },
          "metadata": {
            "tags": []
          },
          "execution_count": 21
        },
        {
          "output_type": "display_data",
          "data": {
            "image/png": "[encoded data removed]",
            "text/plain": [
              "<Figure size 360x360 with 1 Axes>"
            ]
          },
          "metadata": {
            "tags": [],
            "needs_background": "light"
          }
        },
        {
          "output_type": "stream",
          "text": [
            "time: 442 ms\n"
          ],
          "name": "stdout"
        }
      ]
    },
    {
      "cell_type": "markdown",
      "metadata": {
        "id": "99nYLupr0eAs",
        "colab_type": "text"
      },
      "source": [
        "## Menyimpan dan Konversi Model ke \".tflite\""
      ]
    },
    {
      "cell_type": "markdown",
      "metadata": {
        "id": "NxIkRiZJ0hVH",
        "colab_type": "text"
      },
      "source": [
        "Menyimpan model menggunakan tf.saved_model.save dan kemudian mengonversi model tersimpan ke format yang kompatibel tf lite."
      ]
    },
    {
      "cell_type": "code",
      "metadata": {
        "id": "DnpPEwsm_N10",
        "colab_type": "code",
        "colab": {
          "base_uri": "https://localhost:8080/",
          "height": 173
        },
        "outputId": "df8f6abb-d769-48ab-ec6a-e8fcc55101af"
      },
      "source": [
        "saved_model_dir = 'save/model'\n",
        "tf.saved_model.save(model, saved_model_dir)\n",
        "\n",
        "converter = tf.lite.TFLiteConverter.from_saved_model(saved_model_dir)\n",
        "tflite_model = converter.convert()\n",
        "\n",
        "with open('Plant_Leaf_Diseases_Classification_MobileNet.tflite', 'wb') as f:\n",
        "  f.write(tflite_model)"
      ],
      "execution_count": null,
      "outputs": [
        {
          "output_type": "stream",
          "text": [
            "WARNING:tensorflow:From /usr/local/lib/python3.6/dist-packages/tensorflow/python/training/tracking/tracking.py:111: Model.state_updates (from tensorflow.python.keras.engine.training) is deprecated and will be removed in a future version.\n",
            "Instructions for updating:\n",
            "This property should not be used in TensorFlow 2.0, as updates are applied automatically.\n",
            "WARNING:tensorflow:From /usr/local/lib/python3.6/dist-packages/tensorflow/python/training/tracking/tracking.py:111: Layer.updates (from tensorflow.python.keras.engine.base_layer) is deprecated and will be removed in a future version.\n",
            "Instructions for updating:\n",
            "This property should not be used in TensorFlow 2.0, as updates are applied automatically.\n",
            "INFO:tensorflow:Assets written to: save/model/assets\n",
            "time: 14.9 s\n"
          ],
          "name": "stdout"
        }
      ]
    },
    {
      "cell_type": "markdown",
      "metadata": {
        "id": "LyEPqGw1ybSO",
        "colab_type": "text"
      },
      "source": [
        "Menyimpan model tflite versi kompatibel quantized"
      ]
    },
    {
      "cell_type": "code",
      "metadata": {
        "id": "S8A00bMzyHPF",
        "colab_type": "code",
        "colab": {}
      },
      "source": [
        "saved_model_dir = 'save/model'\n",
        "tf.saved_model.save(model, saved_model_dir)\n",
        "\n",
        "converter = tf.lite.TFLiteConverter.from_saved_model(saved_model_dir)\n",
        "converter.optimizations = [tf.lite.Optimize.DEFAULT]\n",
        "tflite_quant_model = converter.convert()\n",
        "\n",
        "with open('Plant_Leaf_Diseases_Classification_MobileNet_Quantized.tflite', 'wb') as f:\n",
        "  f.write(tflite_model)"
      ],
      "execution_count": null,
      "outputs": []
    }
  ]
}